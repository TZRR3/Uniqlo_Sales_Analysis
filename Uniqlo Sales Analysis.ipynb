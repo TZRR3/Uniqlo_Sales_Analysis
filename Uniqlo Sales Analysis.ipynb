{
 "cells": [
  {
   "cell_type": "code",
   "execution_count": 1,
   "metadata": {},
   "outputs": [],
   "source": [
    "import pandas as pd\n",
    "import seaborn as sns\n",
    "import matplotlib.pyplot as plt\n",
    "%matplotlib inline"
   ]
  },
  {
   "cell_type": "code",
   "execution_count": 2,
   "metadata": {},
   "outputs": [],
   "source": [
    "sales = pd.read_csv('/Users/yuruozhang/Documents/projects/sales_report.csv')"
   ]
  },
  {
   "cell_type": "code",
   "execution_count": 3,
   "metadata": {
    "scrolled": false
   },
   "outputs": [
    {
     "name": "stdout",
     "output_type": "stream",
     "text": [
      "<class 'pandas.core.frame.DataFrame'>\n",
      "RangeIndex: 22293 entries, 0 to 22292\n",
      "Data columns (total 13 columns):\n",
      " #   Column        Non-Null Count  Dtype  \n",
      "---  ------        --------------  -----  \n",
      " 0   store_id      22293 non-null  int64  \n",
      " 1   city          22293 non-null  object \n",
      " 2   channel       22293 non-null  object \n",
      " 3   gender_group  22293 non-null  object \n",
      " 4   age_group     22293 non-null  object \n",
      " 5   wkd_ind       22293 non-null  object \n",
      " 6   product       22293 non-null  object \n",
      " 7   customer      22293 non-null  int64  \n",
      " 8   revenue       22293 non-null  float64\n",
      " 9   order         22293 non-null  int64  \n",
      " 10  quant         22293 non-null  int64  \n",
      " 11  unit_cost     22293 non-null  int64  \n",
      " 12  unit_price    22293 non-null  int64  \n",
      "dtypes: float64(1), int64(6), object(6)\n",
      "memory usage: 2.2+ MB\n"
     ]
    }
   ],
   "source": [
    "sales.info()"
   ]
  },
  {
   "cell_type": "markdown",
   "metadata": {},
   "source": [
    "Seems no missing value in this dataframe."
   ]
  },
  {
   "cell_type": "code",
   "execution_count": 4,
   "metadata": {
    "scrolled": false
   },
   "outputs": [
    {
     "data": {
      "text/html": [
       "<div>\n",
       "<style scoped>\n",
       "    .dataframe tbody tr th:only-of-type {\n",
       "        vertical-align: middle;\n",
       "    }\n",
       "\n",
       "    .dataframe tbody tr th {\n",
       "        vertical-align: top;\n",
       "    }\n",
       "\n",
       "    .dataframe thead th {\n",
       "        text-align: right;\n",
       "    }\n",
       "</style>\n",
       "<table border=\"1\" class=\"dataframe\">\n",
       "  <thead>\n",
       "    <tr style=\"text-align: right;\">\n",
       "      <th></th>\n",
       "      <th>store_id</th>\n",
       "      <th>customer</th>\n",
       "      <th>revenue</th>\n",
       "      <th>order</th>\n",
       "      <th>quant</th>\n",
       "      <th>unit_cost</th>\n",
       "      <th>unit_price</th>\n",
       "    </tr>\n",
       "  </thead>\n",
       "  <tbody>\n",
       "    <tr>\n",
       "      <th>count</th>\n",
       "      <td>22293.000000</td>\n",
       "      <td>22293.000000</td>\n",
       "      <td>22293.000000</td>\n",
       "      <td>22293.000000</td>\n",
       "      <td>22293.000000</td>\n",
       "      <td>22293.000000</td>\n",
       "      <td>22293.000000</td>\n",
       "    </tr>\n",
       "    <tr>\n",
       "      <th>mean</th>\n",
       "      <td>335.391558</td>\n",
       "      <td>1.629480</td>\n",
       "      <td>159.531371</td>\n",
       "      <td>1.651998</td>\n",
       "      <td>1.858072</td>\n",
       "      <td>46.124658</td>\n",
       "      <td>84.279998</td>\n",
       "    </tr>\n",
       "    <tr>\n",
       "      <th>std</th>\n",
       "      <td>230.236167</td>\n",
       "      <td>1.785605</td>\n",
       "      <td>276.254066</td>\n",
       "      <td>1.861480</td>\n",
       "      <td>2.347301</td>\n",
       "      <td>19.124347</td>\n",
       "      <td>46.314296</td>\n",
       "    </tr>\n",
       "    <tr>\n",
       "      <th>min</th>\n",
       "      <td>19.000000</td>\n",
       "      <td>1.000000</td>\n",
       "      <td>-0.660000</td>\n",
       "      <td>1.000000</td>\n",
       "      <td>1.000000</td>\n",
       "      <td>9.000000</td>\n",
       "      <td>0.000000</td>\n",
       "    </tr>\n",
       "    <tr>\n",
       "      <th>25%</th>\n",
       "      <td>142.000000</td>\n",
       "      <td>1.000000</td>\n",
       "      <td>64.000000</td>\n",
       "      <td>1.000000</td>\n",
       "      <td>1.000000</td>\n",
       "      <td>49.000000</td>\n",
       "      <td>56.000000</td>\n",
       "    </tr>\n",
       "    <tr>\n",
       "      <th>50%</th>\n",
       "      <td>315.000000</td>\n",
       "      <td>1.000000</td>\n",
       "      <td>99.000000</td>\n",
       "      <td>1.000000</td>\n",
       "      <td>1.000000</td>\n",
       "      <td>49.000000</td>\n",
       "      <td>79.000000</td>\n",
       "    </tr>\n",
       "    <tr>\n",
       "      <th>75%</th>\n",
       "      <td>480.000000</td>\n",
       "      <td>2.000000</td>\n",
       "      <td>175.000000</td>\n",
       "      <td>2.000000</td>\n",
       "      <td>2.000000</td>\n",
       "      <td>49.000000</td>\n",
       "      <td>99.000000</td>\n",
       "    </tr>\n",
       "    <tr>\n",
       "      <th>max</th>\n",
       "      <td>831.000000</td>\n",
       "      <td>58.000000</td>\n",
       "      <td>12538.000000</td>\n",
       "      <td>65.000000</td>\n",
       "      <td>84.000000</td>\n",
       "      <td>99.000000</td>\n",
       "      <td>299.000000</td>\n",
       "    </tr>\n",
       "  </tbody>\n",
       "</table>\n",
       "</div>"
      ],
      "text/plain": [
       "           store_id      customer       revenue         order         quant  \\\n",
       "count  22293.000000  22293.000000  22293.000000  22293.000000  22293.000000   \n",
       "mean     335.391558      1.629480    159.531371      1.651998      1.858072   \n",
       "std      230.236167      1.785605    276.254066      1.861480      2.347301   \n",
       "min       19.000000      1.000000     -0.660000      1.000000      1.000000   \n",
       "25%      142.000000      1.000000     64.000000      1.000000      1.000000   \n",
       "50%      315.000000      1.000000     99.000000      1.000000      1.000000   \n",
       "75%      480.000000      2.000000    175.000000      2.000000      2.000000   \n",
       "max      831.000000     58.000000  12538.000000     65.000000     84.000000   \n",
       "\n",
       "          unit_cost    unit_price  \n",
       "count  22293.000000  22293.000000  \n",
       "mean      46.124658     84.279998  \n",
       "std       19.124347     46.314296  \n",
       "min        9.000000      0.000000  \n",
       "25%       49.000000     56.000000  \n",
       "50%       49.000000     79.000000  \n",
       "75%       49.000000     99.000000  \n",
       "max       99.000000    299.000000  "
      ]
     },
     "execution_count": 4,
     "metadata": {},
     "output_type": "execute_result"
    }
   ],
   "source": [
    "sales.describe()"
   ]
  },
  {
   "cell_type": "markdown",
   "metadata": {},
   "source": [
    "1.Delete store_id, it's not necessary.\n",
    "2.The outliers in 'revenue' should be fixed."
   ]
  },
  {
   "cell_type": "code",
   "execution_count": 5,
   "metadata": {},
   "outputs": [],
   "source": [
    "# store_id delete\n",
    "sales.drop('store_id', axis=1, inplace=True)"
   ]
  },
  {
   "cell_type": "code",
   "execution_count": 6,
   "metadata": {},
   "outputs": [
    {
     "data": {
      "text/plain": [
       "79.00      3656\n",
       "99.00      3114\n",
       "59.00      1608\n",
       "39.00      1196\n",
       "198.00      793\n",
       "           ... \n",
       "426.38        1\n",
       "156.81        1\n",
       "292.82        1\n",
       "110.51        1\n",
       "1038.00       1\n",
       "Name: revenue, Length: 1411, dtype: int64"
      ]
     },
     "execution_count": 6,
     "metadata": {},
     "output_type": "execute_result"
    }
   ],
   "source": [
    "# fix outliers in 'revenue'\n",
    "#The gap between min and max in 'revenue' is huge.\n",
    "sales.revenue.value_counts()"
   ]
  },
  {
   "cell_type": "code",
   "execution_count": 7,
   "metadata": {},
   "outputs": [],
   "source": [
    "# Arrange 'revenue' into different level \n",
    "bins = [-1000,0,100,500,1000,2000,5000,10000,15000]\n",
    "sales['revenue_level'] = pd.cut(sales.revenue, bins, right=False)"
   ]
  },
  {
   "cell_type": "code",
   "execution_count": 8,
   "metadata": {
    "scrolled": true
   },
   "outputs": [
    {
     "data": {
      "text/html": [
       "<div>\n",
       "<style scoped>\n",
       "    .dataframe tbody tr th:only-of-type {\n",
       "        vertical-align: middle;\n",
       "    }\n",
       "\n",
       "    .dataframe tbody tr th {\n",
       "        vertical-align: top;\n",
       "    }\n",
       "\n",
       "    .dataframe thead th {\n",
       "        text-align: right;\n",
       "    }\n",
       "</style>\n",
       "<table border=\"1\" class=\"dataframe\">\n",
       "  <thead>\n",
       "    <tr style=\"text-align: right;\">\n",
       "      <th></th>\n",
       "      <th>count</th>\n",
       "      <th>mean</th>\n",
       "      <th>std</th>\n",
       "      <th>min</th>\n",
       "      <th>25%</th>\n",
       "      <th>50%</th>\n",
       "      <th>75%</th>\n",
       "      <th>max</th>\n",
       "    </tr>\n",
       "    <tr>\n",
       "      <th>revenue_level</th>\n",
       "      <th></th>\n",
       "      <th></th>\n",
       "      <th></th>\n",
       "      <th></th>\n",
       "      <th></th>\n",
       "      <th></th>\n",
       "      <th></th>\n",
       "      <th></th>\n",
       "    </tr>\n",
       "  </thead>\n",
       "  <tbody>\n",
       "    <tr>\n",
       "      <th>[-1000, 0)</th>\n",
       "      <td>1.0</td>\n",
       "      <td>-0.660000</td>\n",
       "      <td>NaN</td>\n",
       "      <td>-0.66</td>\n",
       "      <td>-0.66</td>\n",
       "      <td>-0.66</td>\n",
       "      <td>-0.66</td>\n",
       "      <td>-0.66</td>\n",
       "    </tr>\n",
       "    <tr>\n",
       "      <th>[0, 100)</th>\n",
       "      <td>13735.0</td>\n",
       "      <td>69.398428</td>\n",
       "      <td>24.057206</td>\n",
       "      <td>0.00</td>\n",
       "      <td>53.00</td>\n",
       "      <td>79.00</td>\n",
       "      <td>89.00</td>\n",
       "      <td>99.00</td>\n",
       "    </tr>\n",
       "    <tr>\n",
       "      <th>[100, 500)</th>\n",
       "      <td>7662.0</td>\n",
       "      <td>221.046232</td>\n",
       "      <td>93.959692</td>\n",
       "      <td>100.00</td>\n",
       "      <td>149.00</td>\n",
       "      <td>198.00</td>\n",
       "      <td>271.00</td>\n",
       "      <td>498.00</td>\n",
       "    </tr>\n",
       "    <tr>\n",
       "      <th>[500, 1000)</th>\n",
       "      <td>671.0</td>\n",
       "      <td>684.615633</td>\n",
       "      <td>134.712670</td>\n",
       "      <td>505.00</td>\n",
       "      <td>592.00</td>\n",
       "      <td>643.00</td>\n",
       "      <td>780.75</td>\n",
       "      <td>997.00</td>\n",
       "    </tr>\n",
       "    <tr>\n",
       "      <th>[1000, 2000)</th>\n",
       "      <td>162.0</td>\n",
       "      <td>1358.550617</td>\n",
       "      <td>257.825041</td>\n",
       "      <td>1009.00</td>\n",
       "      <td>1155.25</td>\n",
       "      <td>1293.00</td>\n",
       "      <td>1541.25</td>\n",
       "      <td>1990.00</td>\n",
       "    </tr>\n",
       "    <tr>\n",
       "      <th>[2000, 5000)</th>\n",
       "      <td>51.0</td>\n",
       "      <td>2949.593725</td>\n",
       "      <td>831.873589</td>\n",
       "      <td>2050.00</td>\n",
       "      <td>2328.79</td>\n",
       "      <td>2683.00</td>\n",
       "      <td>3410.00</td>\n",
       "      <td>4975.00</td>\n",
       "    </tr>\n",
       "    <tr>\n",
       "      <th>[5000, 10000)</th>\n",
       "      <td>9.0</td>\n",
       "      <td>6295.780000</td>\n",
       "      <td>1308.101226</td>\n",
       "      <td>5039.59</td>\n",
       "      <td>5241.43</td>\n",
       "      <td>5947.00</td>\n",
       "      <td>6636.00</td>\n",
       "      <td>8836.00</td>\n",
       "    </tr>\n",
       "    <tr>\n",
       "      <th>[10000, 15000)</th>\n",
       "      <td>2.0</td>\n",
       "      <td>11518.140000</td>\n",
       "      <td>1442.299844</td>\n",
       "      <td>10498.28</td>\n",
       "      <td>11008.21</td>\n",
       "      <td>11518.14</td>\n",
       "      <td>12028.07</td>\n",
       "      <td>12538.00</td>\n",
       "    </tr>\n",
       "  </tbody>\n",
       "</table>\n",
       "</div>"
      ],
      "text/plain": [
       "                  count          mean          std       min       25%  \\\n",
       "revenue_level                                                            \n",
       "[-1000, 0)          1.0     -0.660000          NaN     -0.66     -0.66   \n",
       "[0, 100)        13735.0     69.398428    24.057206      0.00     53.00   \n",
       "[100, 500)       7662.0    221.046232    93.959692    100.00    149.00   \n",
       "[500, 1000)       671.0    684.615633   134.712670    505.00    592.00   \n",
       "[1000, 2000)      162.0   1358.550617   257.825041   1009.00   1155.25   \n",
       "[2000, 5000)       51.0   2949.593725   831.873589   2050.00   2328.79   \n",
       "[5000, 10000)       9.0   6295.780000  1308.101226   5039.59   5241.43   \n",
       "[10000, 15000)      2.0  11518.140000  1442.299844  10498.28  11008.21   \n",
       "\n",
       "                     50%       75%       max  \n",
       "revenue_level                                 \n",
       "[-1000, 0)         -0.66     -0.66     -0.66  \n",
       "[0, 100)           79.00     89.00     99.00  \n",
       "[100, 500)        198.00    271.00    498.00  \n",
       "[500, 1000)       643.00    780.75    997.00  \n",
       "[1000, 2000)     1293.00   1541.25   1990.00  \n",
       "[2000, 5000)     2683.00   3410.00   4975.00  \n",
       "[5000, 10000)    5947.00   6636.00   8836.00  \n",
       "[10000, 15000)  11518.14  12028.07  12538.00  "
      ]
     },
     "execution_count": 8,
     "metadata": {},
     "output_type": "execute_result"
    }
   ],
   "source": [
    "sales.groupby('revenue_level').revenue.describe()"
   ]
  },
  {
   "cell_type": "markdown",
   "metadata": {},
   "source": [
    "The counts of revenue < 0 and >=2000 are very smaill, then delete outliers from the dataframe."
   ]
  },
  {
   "cell_type": "code",
   "execution_count": 9,
   "metadata": {
    "scrolled": false
   },
   "outputs": [
    {
     "data": {
      "text/plain": [
       "count    22200.000000\n",
       "mean       149.833600\n",
       "std        171.650825\n",
       "min         10.000000\n",
       "25%         65.000000\n",
       "50%         99.000000\n",
       "75%        168.447500\n",
       "max       1990.000000\n",
       "Name: revenue, dtype: float64"
      ]
     },
     "execution_count": 9,
     "metadata": {},
     "output_type": "execute_result"
    }
   ],
   "source": [
    "sales = sales[(sales.revenue>0) & (sales.revenue<2000)]\n",
    "sales.revenue.describe()"
   ]
  },
  {
   "cell_type": "code",
   "execution_count": 10,
   "metadata": {},
   "outputs": [],
   "source": [
    "# Deal with \"Unknown\" values in 'age_group' and 'gender_group'\n",
    "# Find out the ratio of \"Unknown\"\n",
    "import numpy as np\n",
    "sales.loc[sales.age_group == 'Unkown', 'age_group'] = np.nan\n",
    "sales.loc[sales.gender_group == 'Unkown', 'gender_group'] = np.nan"
   ]
  },
  {
   "cell_type": "code",
   "execution_count": 11,
   "metadata": {
    "scrolled": false
   },
   "outputs": [
    {
     "data": {
      "text/plain": [
       "city             0.000000\n",
       "channel          0.000000\n",
       "gender_group     0.005315\n",
       "age_group        0.006171\n",
       "wkd_ind          0.000000\n",
       "product          0.000000\n",
       "customer         0.000000\n",
       "revenue          0.000000\n",
       "order            0.000000\n",
       "quant            0.000000\n",
       "unit_cost        0.000000\n",
       "unit_price       0.000000\n",
       "revenue_level    0.000000\n",
       "dtype: float64"
      ]
     },
     "execution_count": 11,
     "metadata": {},
     "output_type": "execute_result"
    }
   ],
   "source": [
    "sales.isnull().sum() / len(sales)"
   ]
  },
  {
   "cell_type": "markdown",
   "metadata": {},
   "source": [
    "The ratios are very small, delete the 'Unkown' values."
   ]
  },
  {
   "cell_type": "code",
   "execution_count": 12,
   "metadata": {},
   "outputs": [],
   "source": [
    "sales.dropna(inplace=True)"
   ]
  },
  {
   "cell_type": "code",
   "execution_count": 13,
   "metadata": {
    "scrolled": true
   },
   "outputs": [
    {
     "data": {
      "text/html": [
       "<div>\n",
       "<style scoped>\n",
       "    .dataframe tbody tr th:only-of-type {\n",
       "        vertical-align: middle;\n",
       "    }\n",
       "\n",
       "    .dataframe tbody tr th {\n",
       "        vertical-align: top;\n",
       "    }\n",
       "\n",
       "    .dataframe thead th {\n",
       "        text-align: right;\n",
       "    }\n",
       "</style>\n",
       "<table border=\"1\" class=\"dataframe\">\n",
       "  <thead>\n",
       "    <tr style=\"text-align: right;\">\n",
       "      <th></th>\n",
       "      <th>city</th>\n",
       "      <th>channel</th>\n",
       "      <th>gender_group</th>\n",
       "      <th>age_group</th>\n",
       "      <th>wkd_ind</th>\n",
       "      <th>product</th>\n",
       "      <th>customer</th>\n",
       "      <th>revenue</th>\n",
       "      <th>order</th>\n",
       "      <th>quant</th>\n",
       "      <th>unit_cost</th>\n",
       "      <th>unit_price</th>\n",
       "      <th>revenue_level</th>\n",
       "    </tr>\n",
       "  </thead>\n",
       "  <tbody>\n",
       "    <tr>\n",
       "      <th>0</th>\n",
       "      <td>Shenzhen</td>\n",
       "      <td>Store</td>\n",
       "      <td>Female</td>\n",
       "      <td>25-29</td>\n",
       "      <td>Weekday</td>\n",
       "      <td>New Arrivals</td>\n",
       "      <td>4</td>\n",
       "      <td>796.0</td>\n",
       "      <td>4</td>\n",
       "      <td>4</td>\n",
       "      <td>59</td>\n",
       "      <td>199</td>\n",
       "      <td>[500, 1000)</td>\n",
       "    </tr>\n",
       "    <tr>\n",
       "      <th>1</th>\n",
       "      <td>Hangzhou</td>\n",
       "      <td>Store</td>\n",
       "      <td>Female</td>\n",
       "      <td>25-29</td>\n",
       "      <td>Weekday</td>\n",
       "      <td>sports</td>\n",
       "      <td>1</td>\n",
       "      <td>149.0</td>\n",
       "      <td>1</td>\n",
       "      <td>1</td>\n",
       "      <td>49</td>\n",
       "      <td>149</td>\n",
       "      <td>[100, 500)</td>\n",
       "    </tr>\n",
       "    <tr>\n",
       "      <th>2</th>\n",
       "      <td>Shenzhen</td>\n",
       "      <td>Store</td>\n",
       "      <td>Male</td>\n",
       "      <td>&gt;=60</td>\n",
       "      <td>Weekday</td>\n",
       "      <td>T-shirt</td>\n",
       "      <td>2</td>\n",
       "      <td>178.0</td>\n",
       "      <td>2</td>\n",
       "      <td>2</td>\n",
       "      <td>49</td>\n",
       "      <td>89</td>\n",
       "      <td>[100, 500)</td>\n",
       "    </tr>\n",
       "    <tr>\n",
       "      <th>3</th>\n",
       "      <td>Shenzhen</td>\n",
       "      <td>Store</td>\n",
       "      <td>Female</td>\n",
       "      <td>25-29</td>\n",
       "      <td>Weekday</td>\n",
       "      <td>T-shirt</td>\n",
       "      <td>1</td>\n",
       "      <td>59.0</td>\n",
       "      <td>1</td>\n",
       "      <td>1</td>\n",
       "      <td>49</td>\n",
       "      <td>59</td>\n",
       "      <td>[0, 100)</td>\n",
       "    </tr>\n",
       "    <tr>\n",
       "      <th>4</th>\n",
       "      <td>Shenzhen</td>\n",
       "      <td>Store</td>\n",
       "      <td>Male</td>\n",
       "      <td>20-24</td>\n",
       "      <td>Weekend</td>\n",
       "      <td>Sock</td>\n",
       "      <td>2</td>\n",
       "      <td>65.0</td>\n",
       "      <td>2</td>\n",
       "      <td>3</td>\n",
       "      <td>9</td>\n",
       "      <td>22</td>\n",
       "      <td>[0, 100)</td>\n",
       "    </tr>\n",
       "  </tbody>\n",
       "</table>\n",
       "</div>"
      ],
      "text/plain": [
       "       city channel gender_group age_group  wkd_ind       product  customer  \\\n",
       "0  Shenzhen   Store       Female     25-29  Weekday  New Arrivals         4   \n",
       "1  Hangzhou   Store       Female     25-29  Weekday        sports         1   \n",
       "2  Shenzhen   Store         Male      >=60  Weekday       T-shirt         2   \n",
       "3  Shenzhen   Store       Female     25-29  Weekday       T-shirt         1   \n",
       "4  Shenzhen   Store         Male     20-24  Weekend          Sock         2   \n",
       "\n",
       "   revenue  order  quant  unit_cost  unit_price revenue_level  \n",
       "0    796.0      4      4         59         199   [500, 1000)  \n",
       "1    149.0      1      1         49         149    [100, 500)  \n",
       "2    178.0      2      2         49          89    [100, 500)  \n",
       "3     59.0      1      1         49          59      [0, 100)  \n",
       "4     65.0      2      3          9          22      [0, 100)  "
      ]
     },
     "execution_count": 13,
     "metadata": {},
     "output_type": "execute_result"
    }
   ],
   "source": [
    "sales.head()"
   ]
  },
  {
   "cell_type": "markdown",
   "metadata": {},
   "source": [
    "Date Metric: wkd_ind (weekday/ weekend)\n",
    "Customer Metric: city, gender_group, age_group, channel(buy in store/ online) \n",
    "Product: product, unit_cost, unit_price\n",
    "Sales: customer, revenue, order, quant"
   ]
  },
  {
   "cell_type": "markdown",
   "metadata": {},
   "source": [
    "# weekday vs weekend"
   ]
  },
  {
   "cell_type": "code",
   "execution_count": 15,
   "metadata": {
    "scrolled": true
   },
   "outputs": [
    {
     "data": {
      "text/html": [
       "<div>\n",
       "<style scoped>\n",
       "    .dataframe tbody tr th:only-of-type {\n",
       "        vertical-align: middle;\n",
       "    }\n",
       "\n",
       "    .dataframe tbody tr th {\n",
       "        vertical-align: top;\n",
       "    }\n",
       "\n",
       "    .dataframe thead th {\n",
       "        text-align: right;\n",
       "    }\n",
       "</style>\n",
       "<table border=\"1\" class=\"dataframe\">\n",
       "  <thead>\n",
       "    <tr style=\"text-align: right;\">\n",
       "      <th></th>\n",
       "      <th>count</th>\n",
       "      <th>mean</th>\n",
       "      <th>std</th>\n",
       "      <th>min</th>\n",
       "      <th>25%</th>\n",
       "      <th>50%</th>\n",
       "      <th>75%</th>\n",
       "      <th>max</th>\n",
       "    </tr>\n",
       "    <tr>\n",
       "      <th>wkd_ind</th>\n",
       "      <th></th>\n",
       "      <th></th>\n",
       "      <th></th>\n",
       "      <th></th>\n",
       "      <th></th>\n",
       "      <th></th>\n",
       "      <th></th>\n",
       "      <th></th>\n",
       "    </tr>\n",
       "  </thead>\n",
       "  <tbody>\n",
       "    <tr>\n",
       "      <th>Weekday</th>\n",
       "      <td>12324.0</td>\n",
       "      <td>155.829499</td>\n",
       "      <td>179.045219</td>\n",
       "      <td>10.0</td>\n",
       "      <td>66.0</td>\n",
       "      <td>99.0</td>\n",
       "      <td>191.0</td>\n",
       "      <td>1990.0</td>\n",
       "    </tr>\n",
       "    <tr>\n",
       "      <th>Weekend</th>\n",
       "      <td>9737.0</td>\n",
       "      <td>143.111978</td>\n",
       "      <td>162.527257</td>\n",
       "      <td>10.0</td>\n",
       "      <td>62.0</td>\n",
       "      <td>99.0</td>\n",
       "      <td>158.0</td>\n",
       "      <td>1872.0</td>\n",
       "    </tr>\n",
       "  </tbody>\n",
       "</table>\n",
       "</div>"
      ],
      "text/plain": [
       "           count        mean         std   min   25%   50%    75%     max\n",
       "wkd_ind                                                                  \n",
       "Weekday  12324.0  155.829499  179.045219  10.0  66.0  99.0  191.0  1990.0\n",
       "Weekend   9737.0  143.111978  162.527257  10.0  62.0  99.0  158.0  1872.0"
      ]
     },
     "execution_count": 15,
     "metadata": {},
     "output_type": "execute_result"
    }
   ],
   "source": [
    "# Compare the average_revenue:\n",
    "sales.groupby('wkd_ind').revenue.describe()"
   ]
  },
  {
   "cell_type": "code",
   "execution_count": 16,
   "metadata": {},
   "outputs": [
    {
     "data": {
      "text/plain": [
       "<AxesSubplot:xlabel='wkd_ind', ylabel='revenue'>"
      ]
     },
     "execution_count": 16,
     "metadata": {},
     "output_type": "execute_result"
    },
    {
     "data": {
      "image/png": "[encoded data removed]",
      "text/plain": [
       "<Figure size 432x288 with 1 Axes>"
      ]
     },
     "metadata": {
      "needs_background": "light"
     },
     "output_type": "display_data"
    }
   ],
   "source": [
    "sns.barplot(x='wkd_ind', y='revenue', data=sales)"
   ]
  },
  {
   "cell_type": "markdown",
   "metadata": {},
   "source": [
    "The average revenue on weekday is higher than on weekend."
   ]
  },
  {
   "cell_type": "code",
   "execution_count": 34,
   "metadata": {},
   "outputs": [
    {
     "data": {
      "text/plain": [
       "wkd_ind\n",
       "Weekday    1920442.74\n",
       "Weekend    1393481.33\n",
       "Name: revenue, dtype: float64"
      ]
     },
     "execution_count": 34,
     "metadata": {},
     "output_type": "execute_result"
    }
   ],
   "source": [
    "# Compare the daily_revenue\n",
    "# dily_revenue = total revenue / days\n",
    "sales.groupby('wkd_ind').revenue.sum()"
   ]
  },
  {
   "cell_type": "code",
   "execution_count": 35,
   "metadata": {},
   "outputs": [
    {
     "data": {
      "text/plain": [
       "1.8140105156168311"
      ]
     },
     "execution_count": 35,
     "metadata": {},
     "output_type": "execute_result"
    }
   ],
   "source": [
    "# ratio of daily revenue: weekend/weekday\n",
    "(1393481.33/2) / (1920442.74/5)"
   ]
  },
  {
   "cell_type": "markdown",
   "metadata": {},
   "source": [
    "The weekend's daily revenue is 1.8 times the weekday's amount."
   ]
  },
  {
   "cell_type": "code",
   "execution_count": 37,
   "metadata": {},
   "outputs": [
    {
     "data": {
      "text/plain": [
       "wkd_ind\n",
       "Weekday    20288\n",
       "Weekend    14570\n",
       "Name: customer, dtype: int64"
      ]
     },
     "execution_count": 37,
     "metadata": {},
     "output_type": "execute_result"
    }
   ],
   "source": [
    "# daily_passenger_flow = total_customer / days\n",
    "sales.groupby(\"wkd_ind\").customer.sum()"
   ]
  },
  {
   "cell_type": "code",
   "execution_count": 38,
   "metadata": {},
   "outputs": [
    {
     "data": {
      "text/plain": [
       "1.7953962933753944"
      ]
     },
     "execution_count": 38,
     "metadata": {},
     "output_type": "execute_result"
    }
   ],
   "source": [
    "# ratio = weekend/weekday\n",
    "(14570/2) / (20288/5)\n",
    "\n",
    "# Customers shopping on weekend is 1.9 times the amount on weekday."
   ]
  },
  {
   "cell_type": "code",
   "execution_count": 39,
   "metadata": {},
   "outputs": [
    {
     "data": {
      "text/plain": [
       "wkd_ind\n",
       "Weekday    94.659047\n",
       "Weekend    95.640448\n",
       "dtype: float64"
      ]
     },
     "execution_count": 39,
     "metadata": {},
     "output_type": "execute_result"
    }
   ],
   "source": [
    "# daily_per_customer_transaction = total_revenue / total_customer\n",
    "sales.groupby('wkd_ind').revenue.sum() / sales.groupby('wkd_ind').customer.sum()\n",
    "\n",
    "# per customer transaction on weekend is $1 higher than on weekday"
   ]
  },
  {
   "cell_type": "markdown",
   "metadata": {},
   "source": [
    "Summay: \n",
    "Although the average revenue on weekday is higher than on weekend, \n",
    "the daily revenue and per customer transaction on weekend are almost twice the amounts of on weekday. \n",
    "And per customer transaction on weekend is also higher than on weekday.\n",
    "To increase total revenue, we can improve the weekend sales, for example have more promotion on weekend."
   ]
  },
  {
   "cell_type": "markdown",
   "metadata": {},
   "source": [
    "# sales for different products"
   ]
  },
  {
   "cell_type": "code",
   "execution_count": 19,
   "metadata": {},
   "outputs": [
    {
     "data": {
      "text/plain": [
       "Index(['Sweater', 'Accessories', 'Dresses', 'New Arrivals', 'Jean', 'T-shirt',\n",
       "       'sports', 'Shorts', 'Sock'],\n",
       "      dtype='object', name='product')"
      ]
     },
     "execution_count": 19,
     "metadata": {},
     "output_type": "execute_result"
    }
   ],
   "source": [
    "# find the indics that the total revenues for different products descending\n",
    "sales.groupby('product').revenue.mean().sort_values(ascending=False).index"
   ]
  },
  {
   "cell_type": "code",
   "execution_count": 20,
   "metadata": {},
   "outputs": [
    {
     "data": {
      "text/plain": [
       "[Text(0, 0, 'Sweater'),\n",
       " Text(1, 0, 'Accessories'),\n",
       " Text(2, 0, 'New Arrivals'),\n",
       " Text(3, 0, 'Dresses'),\n",
       " Text(4, 0, 'Jean'),\n",
       " Text(5, 0, 'T-shirt'),\n",
       " Text(6, 0, 'sports'),\n",
       " Text(7, 0, 'Shorts'),\n",
       " Text(8, 0, 'Sock')]"
      ]
     },
     "execution_count": 20,
     "metadata": {},
     "output_type": "execute_result"
    },
    {
     "data": {
      "image/png": "[encoded data removed]",
      "text/plain": [
       "<Figure size 432x288 with 1 Axes>"
      ]
     },
     "metadata": {
      "needs_background": "light"
     },
     "output_type": "display_data"
    }
   ],
   "source": [
    "# average revenue for each categories\n",
    "ax = sns.barplot(x='product', y='revenue', data=sales, order=sales.groupby('product').revenue.mean().sort_values(ascending=False).index)\n",
    "ax.set_xticklabels(labels = ['Sweater', 'Accessories', 'New Arrivals', 'Dresses', 'Jean', 'T-shirt',\n",
    "       'sports', 'Shorts', 'Sock'], rotation = 45,fontsize = 15)"
   ]
  },
  {
   "cell_type": "markdown",
   "metadata": {},
   "source": [
    "TOP 3 average_revenue categories: Sweater, Accessories, New Arrivals"
   ]
  },
  {
   "cell_type": "code",
   "execution_count": 48,
   "metadata": {},
   "outputs": [
    {
     "data": {
      "text/plain": [
       "<AxesSubplot:xlabel='product', ylabel='revenue'>"
      ]
     },
     "execution_count": 48,
     "metadata": {},
     "output_type": "execute_result"
    },
    {
     "data": {
      "image/png": "[encoded data removed]",
      "text/plain": [
       "<Figure size 720x360 with 1 Axes>"
      ]
     },
     "metadata": {
      "needs_background": "light"
     },
     "output_type": "display_data"
    }
   ],
   "source": [
    "# Total revenue for each categories\n",
    "fig = plt.figure(figsize=(10,5))\n",
    "sns.barplot(x='product', y='revenue', data=sales, estimator=sum,\n",
    "            order=sales.groupby('product').revenue.sum().sort_values(ascending=False).index)"
   ]
  },
  {
   "cell_type": "markdown",
   "metadata": {},
   "source": [
    "TOP3 total_revenue categories: T-shirt, New Arrivals, Accessories. \n",
    "Compare with the average_revenue barplot, sweater has the highest average revenue because the quantity is low."
   ]
  },
  {
   "cell_type": "code",
   "execution_count": 22,
   "metadata": {},
   "outputs": [
    {
     "data": {
      "text/plain": [
       "Index(['Shenzhen', 'Wuhan', 'Hangzhou', 'Shanghai', 'Guangzhou', 'Chongqing',\n",
       "       'Xian', 'Chengdu', 'Beijing', 'Nanjing'],\n",
       "      dtype='object', name='city')"
      ]
     },
     "execution_count": 22,
     "metadata": {},
     "output_type": "execute_result"
    }
   ],
   "source": [
    "sales.groupby('city').revenue.sum().sort_values(ascending=False).index"
   ]
  },
  {
   "cell_type": "markdown",
   "metadata": {},
   "source": [
    "# Customer purchasing habits"
   ]
  },
  {
   "cell_type": "code",
   "execution_count": 56,
   "metadata": {},
   "outputs": [
    {
     "data": {
      "text/plain": [
       "[Text(0, 0, 'Shenzhen'),\n",
       " Text(1, 0, 'Wuhan'),\n",
       " Text(2, 0, 'Hangzhou'),\n",
       " Text(3, 0, 'Shanghai'),\n",
       " Text(4, 0, 'Guangzhou'),\n",
       " Text(5, 0, 'Chongqing'),\n",
       " Text(6, 0, 'Xian'),\n",
       " Text(7, 0, 'Chengdu'),\n",
       " Text(8, 0, 'Beijing'),\n",
       " Text(9, 0, 'Nanjing')]"
      ]
     },
     "execution_count": 56,
     "metadata": {},
     "output_type": "execute_result"
    },
    {
     "data": {
      "image/png": "[encoded data removed]",
      "text/plain": [
       "<Figure size 720x360 with 1 Axes>"
      ]
     },
     "metadata": {
      "needs_background": "light"
     },
     "output_type": "display_data"
    }
   ],
   "source": [
    "# city vs channel\n",
    "fig = plt.figure(figsize=(10,5))\n",
    "ax = sns.barplot(x='city', y='revenue', hue='channel', data=sales, estimator=sum,\n",
    "           order=sales.groupby('city').revenue.sum().sort_values(ascending=False).index)\n",
    "ax.set_xticklabels(labels = ['Shenzhen', 'Wuhan', 'Hangzhou', 'Shanghai', 'Guangzhou', 'Chongqing',\n",
    "       'Xian', 'Chengdu', 'Beijing', 'Nanjing'], rotation = 45,fontsize = 15)"
   ]
  },
  {
   "cell_type": "markdown",
   "metadata": {},
   "source": [
    "1. Some cities don't have online shopping records, there might be some mistakes for this dataframe.\n",
    "2. For the current data, people in Wuhan, Shanghai, Chongqing and Xian prefer shopping in store. People in Guangzhou prefer online."
   ]
  },
  {
   "cell_type": "code",
   "execution_count": 25,
   "metadata": {},
   "outputs": [
    {
     "data": {
      "text/plain": [
       "<AxesSubplot:xlabel='gender_group', ylabel='revenue'>"
      ]
     },
     "execution_count": 25,
     "metadata": {},
     "output_type": "execute_result"
    },
    {
     "data": {
      "image/png": "[encoded data removed]",
      "text/plain": [
       "<Figure size 432x288 with 1 Axes>"
      ]
     },
     "metadata": {
      "needs_background": "light"
     },
     "output_type": "display_data"
    }
   ],
   "source": [
    "# Compare total_revenue that female and male purchased in-store and online\n",
    "sns.barplot(x='gender_group', y='revenue', hue='channel', data=sales, estimator=sum,\n",
    "           order=sales.groupby('gender_group').revenue.sum().sort_values(ascending=False).index)"
   ]
  },
  {
   "cell_type": "markdown",
   "metadata": {},
   "source": [
    "All of customers like shopping in store than online. Female shopping more online than male"
   ]
  },
  {
   "cell_type": "code",
   "execution_count": 27,
   "metadata": {
    "scrolled": true
   },
   "outputs": [
    {
     "data": {
      "text/plain": [
       "<AxesSubplot:xlabel='gender_group', ylabel='revenue'>"
      ]
     },
     "execution_count": 27,
     "metadata": {},
     "output_type": "execute_result"
    },
    {
     "data": {
      "image/png": "[encoded data removed]",
      "text/plain": [
       "<Figure size 432x288 with 1 Axes>"
      ]
     },
     "metadata": {
      "needs_background": "light"
     },
     "output_type": "display_data"
    }
   ],
   "source": [
    "# compare in-store and online average_revenue \n",
    "sns.barplot(x='gender_group', y='revenue', hue='channel', data=sales,\n",
    "           order=sales.groupby('gender_group').revenue.mean().sort_values(ascending=False).index)"
   ]
  },
  {
   "cell_type": "markdown",
   "metadata": {},
   "source": [
    "The online average revenue is greater than in-store shopping. "
   ]
  },
  {
   "cell_type": "code",
   "execution_count": 29,
   "metadata": {},
   "outputs": [
    {
     "data": {
      "text/plain": [
       "<AxesSubplot:xlabel='age_group', ylabel='revenue'>"
      ]
     },
     "execution_count": 29,
     "metadata": {},
     "output_type": "execute_result"
    },
    {
     "data": {
      "image/png": "[encoded data removed]",
      "text/plain": [
       "<Figure size 432x288 with 1 Axes>"
      ]
     },
     "metadata": {
      "needs_background": "light"
     },
     "output_type": "display_data"
    }
   ],
   "source": [
    "# age vs revenue\n",
    "sns.barplot(x='age_group', y='revenue', hue='channel', data=sales, estimator=sum,\n",
    "           order=sales.groupby('age_group').revenue.sum().sort_values(ascending=False).index)"
   ]
  },
  {
   "cell_type": "markdown",
   "metadata": {},
   "source": [
    "20-40 year-old customers purchased more. Plople more liked shopping in-store. "
   ]
  },
  {
   "cell_type": "markdown",
   "metadata": {},
   "source": [
    "# revenue vs product"
   ]
  },
  {
   "cell_type": "code",
   "execution_count": 31,
   "metadata": {},
   "outputs": [
    {
     "data": {
      "text/html": [
       "<div>\n",
       "<style scoped>\n",
       "    .dataframe tbody tr th:only-of-type {\n",
       "        vertical-align: middle;\n",
       "    }\n",
       "\n",
       "    .dataframe tbody tr th {\n",
       "        vertical-align: top;\n",
       "    }\n",
       "\n",
       "    .dataframe thead th {\n",
       "        text-align: right;\n",
       "    }\n",
       "</style>\n",
       "<table border=\"1\" class=\"dataframe\">\n",
       "  <thead>\n",
       "    <tr style=\"text-align: right;\">\n",
       "      <th></th>\n",
       "      <th>city</th>\n",
       "      <th>channel</th>\n",
       "      <th>gender_group</th>\n",
       "      <th>age_group</th>\n",
       "      <th>wkd_ind</th>\n",
       "      <th>product</th>\n",
       "      <th>customer</th>\n",
       "      <th>revenue</th>\n",
       "      <th>order</th>\n",
       "      <th>quant</th>\n",
       "      <th>unit_cost</th>\n",
       "      <th>unit_price</th>\n",
       "      <th>revenue_level</th>\n",
       "      <th>unit_revenue</th>\n",
       "      <th>unit_margin</th>\n",
       "    </tr>\n",
       "  </thead>\n",
       "  <tbody>\n",
       "    <tr>\n",
       "      <th>0</th>\n",
       "      <td>Shenzhen</td>\n",
       "      <td>Store</td>\n",
       "      <td>Female</td>\n",
       "      <td>25-29</td>\n",
       "      <td>Weekday</td>\n",
       "      <td>New Arrivals</td>\n",
       "      <td>4</td>\n",
       "      <td>796.0</td>\n",
       "      <td>4</td>\n",
       "      <td>4</td>\n",
       "      <td>59</td>\n",
       "      <td>199</td>\n",
       "      <td>[500, 1000)</td>\n",
       "      <td>199.000000</td>\n",
       "      <td>140.000000</td>\n",
       "    </tr>\n",
       "    <tr>\n",
       "      <th>1</th>\n",
       "      <td>Hangzhou</td>\n",
       "      <td>Store</td>\n",
       "      <td>Female</td>\n",
       "      <td>25-29</td>\n",
       "      <td>Weekday</td>\n",
       "      <td>sports</td>\n",
       "      <td>1</td>\n",
       "      <td>149.0</td>\n",
       "      <td>1</td>\n",
       "      <td>1</td>\n",
       "      <td>49</td>\n",
       "      <td>149</td>\n",
       "      <td>[100, 500)</td>\n",
       "      <td>149.000000</td>\n",
       "      <td>100.000000</td>\n",
       "    </tr>\n",
       "    <tr>\n",
       "      <th>2</th>\n",
       "      <td>Shenzhen</td>\n",
       "      <td>Store</td>\n",
       "      <td>Male</td>\n",
       "      <td>&gt;=60</td>\n",
       "      <td>Weekday</td>\n",
       "      <td>T-shirt</td>\n",
       "      <td>2</td>\n",
       "      <td>178.0</td>\n",
       "      <td>2</td>\n",
       "      <td>2</td>\n",
       "      <td>49</td>\n",
       "      <td>89</td>\n",
       "      <td>[100, 500)</td>\n",
       "      <td>89.000000</td>\n",
       "      <td>40.000000</td>\n",
       "    </tr>\n",
       "    <tr>\n",
       "      <th>3</th>\n",
       "      <td>Shenzhen</td>\n",
       "      <td>Store</td>\n",
       "      <td>Female</td>\n",
       "      <td>25-29</td>\n",
       "      <td>Weekday</td>\n",
       "      <td>T-shirt</td>\n",
       "      <td>1</td>\n",
       "      <td>59.0</td>\n",
       "      <td>1</td>\n",
       "      <td>1</td>\n",
       "      <td>49</td>\n",
       "      <td>59</td>\n",
       "      <td>[0, 100)</td>\n",
       "      <td>59.000000</td>\n",
       "      <td>10.000000</td>\n",
       "    </tr>\n",
       "    <tr>\n",
       "      <th>4</th>\n",
       "      <td>Shenzhen</td>\n",
       "      <td>Store</td>\n",
       "      <td>Male</td>\n",
       "      <td>20-24</td>\n",
       "      <td>Weekend</td>\n",
       "      <td>Sock</td>\n",
       "      <td>2</td>\n",
       "      <td>65.0</td>\n",
       "      <td>2</td>\n",
       "      <td>3</td>\n",
       "      <td>9</td>\n",
       "      <td>22</td>\n",
       "      <td>[0, 100)</td>\n",
       "      <td>21.666667</td>\n",
       "      <td>12.666667</td>\n",
       "    </tr>\n",
       "  </tbody>\n",
       "</table>\n",
       "</div>"
      ],
      "text/plain": [
       "       city channel gender_group age_group  wkd_ind       product  customer  \\\n",
       "0  Shenzhen   Store       Female     25-29  Weekday  New Arrivals         4   \n",
       "1  Hangzhou   Store       Female     25-29  Weekday        sports         1   \n",
       "2  Shenzhen   Store         Male      >=60  Weekday       T-shirt         2   \n",
       "3  Shenzhen   Store       Female     25-29  Weekday       T-shirt         1   \n",
       "4  Shenzhen   Store         Male     20-24  Weekend          Sock         2   \n",
       "\n",
       "   revenue  order  quant  unit_cost  unit_price revenue_level  unit_revenue  \\\n",
       "0    796.0      4      4         59         199   [500, 1000)    199.000000   \n",
       "1    149.0      1      1         49         149    [100, 500)    149.000000   \n",
       "2    178.0      2      2         49          89    [100, 500)     89.000000   \n",
       "3     59.0      1      1         49          59      [0, 100)     59.000000   \n",
       "4     65.0      2      3          9          22      [0, 100)     21.666667   \n",
       "\n",
       "   unit_margin  \n",
       "0   140.000000  \n",
       "1   100.000000  \n",
       "2    40.000000  \n",
       "3    10.000000  \n",
       "4    12.666667  "
      ]
     },
     "execution_count": 31,
     "metadata": {},
     "output_type": "execute_result"
    }
   ],
   "source": [
    "#create \"unit_revenue\" and \"unit_margin\" \n",
    "sales['unit_revenue'] = sales.revenue / sales.quant\n",
    "sales['unit_margin'] = sales.unit_revenue - sales.unit_cost\n",
    "sales.head()"
   ]
  },
  {
   "cell_type": "code",
   "execution_count": 42,
   "metadata": {},
   "outputs": [
    {
     "data": {
      "text/plain": [
       "count    22061.000000\n",
       "mean        38.082344\n",
       "std         39.902734\n",
       "min        -86.000000\n",
       "25%         14.000000\n",
       "50%         30.000000\n",
       "75%         50.000000\n",
       "max        270.000000\n",
       "Name: unit_margin, dtype: float64"
      ]
     },
     "execution_count": 42,
     "metadata": {},
     "output_type": "execute_result"
    }
   ],
   "source": [
    "sales.unit_margin.describe()"
   ]
  },
  {
   "cell_type": "code",
   "execution_count": 46,
   "metadata": {
    "scrolled": true
   },
   "outputs": [
    {
     "data": {
      "text/plain": [
       "<AxesSubplot:xlabel='product', ylabel='unit_margin'>"
      ]
     },
     "execution_count": 46,
     "metadata": {},
     "output_type": "execute_result"
    },
    {
     "data": {
      "image/png": "[encoded data removed]",
      "text/plain": [
       "<Figure size 720x360 with 1 Axes>"
      ]
     },
     "metadata": {
      "needs_background": "light"
     },
     "output_type": "display_data"
    }
   ],
   "source": [
    "# average_margin for each categories\n",
    "fig = plt.figure(figsize=(10,5))\n",
    "sns.barplot(x='product', y='unit_margin', data=sales, \n",
    "            order=sales.groupby('product').unit_margin.mean().sort_values(ascending=False).index)"
   ]
  },
  {
   "cell_type": "markdown",
   "metadata": {},
   "source": [
    "Top3 average margin categories: Sweater, Dresses, Accessories"
   ]
  },
  {
   "cell_type": "code",
   "execution_count": 43,
   "metadata": {
    "scrolled": true
   },
   "outputs": [
    {
     "data": {
      "text/html": [
       "<div>\n",
       "<style scoped>\n",
       "    .dataframe tbody tr th:only-of-type {\n",
       "        vertical-align: middle;\n",
       "    }\n",
       "\n",
       "    .dataframe tbody tr th {\n",
       "        vertical-align: top;\n",
       "    }\n",
       "\n",
       "    .dataframe thead th {\n",
       "        text-align: right;\n",
       "    }\n",
       "</style>\n",
       "<table border=\"1\" class=\"dataframe\">\n",
       "  <thead>\n",
       "    <tr style=\"text-align: right;\">\n",
       "      <th></th>\n",
       "      <th>count</th>\n",
       "      <th>mean</th>\n",
       "      <th>std</th>\n",
       "      <th>min</th>\n",
       "      <th>25%</th>\n",
       "      <th>50%</th>\n",
       "      <th>75%</th>\n",
       "      <th>max</th>\n",
       "    </tr>\n",
       "    <tr>\n",
       "      <th>margin_level</th>\n",
       "      <th></th>\n",
       "      <th></th>\n",
       "      <th></th>\n",
       "      <th></th>\n",
       "      <th></th>\n",
       "      <th></th>\n",
       "      <th></th>\n",
       "      <th></th>\n",
       "    </tr>\n",
       "  </thead>\n",
       "  <tbody>\n",
       "    <tr>\n",
       "      <th>[-100, -25)</th>\n",
       "      <td>448.0</td>\n",
       "      <td>-35.807463</td>\n",
       "      <td>10.120606</td>\n",
       "      <td>-86.0</td>\n",
       "      <td>-40.0</td>\n",
       "      <td>-30.0</td>\n",
       "      <td>-30.0</td>\n",
       "      <td>-25.250000</td>\n",
       "    </tr>\n",
       "    <tr>\n",
       "      <th>[-25, 0)</th>\n",
       "      <td>2317.0</td>\n",
       "      <td>-9.919035</td>\n",
       "      <td>4.804961</td>\n",
       "      <td>-25.0</td>\n",
       "      <td>-10.0</td>\n",
       "      <td>-10.0</td>\n",
       "      <td>-10.0</td>\n",
       "      <td>-0.165000</td>\n",
       "    </tr>\n",
       "    <tr>\n",
       "      <th>[0, 25)</th>\n",
       "      <td>6117.0</td>\n",
       "      <td>14.102649</td>\n",
       "      <td>5.674121</td>\n",
       "      <td>0.0</td>\n",
       "      <td>10.0</td>\n",
       "      <td>14.0</td>\n",
       "      <td>20.0</td>\n",
       "      <td>24.728889</td>\n",
       "    </tr>\n",
       "    <tr>\n",
       "      <th>[25, 50)</th>\n",
       "      <td>4829.0</td>\n",
       "      <td>32.401487</td>\n",
       "      <td>5.353275</td>\n",
       "      <td>25.0</td>\n",
       "      <td>30.0</td>\n",
       "      <td>30.0</td>\n",
       "      <td>30.0</td>\n",
       "      <td>49.928571</td>\n",
       "    </tr>\n",
       "    <tr>\n",
       "      <th>[50, 100)</th>\n",
       "      <td>6234.0</td>\n",
       "      <td>57.797051</td>\n",
       "      <td>13.015117</td>\n",
       "      <td>50.0</td>\n",
       "      <td>50.0</td>\n",
       "      <td>50.0</td>\n",
       "      <td>70.0</td>\n",
       "      <td>99.454545</td>\n",
       "    </tr>\n",
       "    <tr>\n",
       "      <th>[100, 150)</th>\n",
       "      <td>1653.0</td>\n",
       "      <td>119.772390</td>\n",
       "      <td>16.002587</td>\n",
       "      <td>100.0</td>\n",
       "      <td>100.0</td>\n",
       "      <td>120.0</td>\n",
       "      <td>136.0</td>\n",
       "      <td>149.627143</td>\n",
       "    </tr>\n",
       "    <tr>\n",
       "      <th>[150, 200)</th>\n",
       "      <td>393.0</td>\n",
       "      <td>158.329243</td>\n",
       "      <td>10.500466</td>\n",
       "      <td>150.0</td>\n",
       "      <td>150.0</td>\n",
       "      <td>150.0</td>\n",
       "      <td>170.0</td>\n",
       "      <td>195.000000</td>\n",
       "    </tr>\n",
       "  </tbody>\n",
       "</table>\n",
       "</div>"
      ],
      "text/plain": [
       "               count        mean        std    min    25%    50%    75%  \\\n",
       "margin_level                                                              \n",
       "[-100, -25)    448.0  -35.807463  10.120606  -86.0  -40.0  -30.0  -30.0   \n",
       "[-25, 0)      2317.0   -9.919035   4.804961  -25.0  -10.0  -10.0  -10.0   \n",
       "[0, 25)       6117.0   14.102649   5.674121    0.0   10.0   14.0   20.0   \n",
       "[25, 50)      4829.0   32.401487   5.353275   25.0   30.0   30.0   30.0   \n",
       "[50, 100)     6234.0   57.797051  13.015117   50.0   50.0   50.0   70.0   \n",
       "[100, 150)    1653.0  119.772390  16.002587  100.0  100.0  120.0  136.0   \n",
       "[150, 200)     393.0  158.329243  10.500466  150.0  150.0  150.0  170.0   \n",
       "\n",
       "                     max  \n",
       "margin_level              \n",
       "[-100, -25)   -25.250000  \n",
       "[-25, 0)       -0.165000  \n",
       "[0, 25)        24.728889  \n",
       "[25, 50)       49.928571  \n",
       "[50, 100)      99.454545  \n",
       "[100, 150)    149.627143  \n",
       "[150, 200)    195.000000  "
      ]
     },
     "execution_count": 43,
     "metadata": {},
     "output_type": "execute_result"
    }
   ],
   "source": [
    "# margin for each categories\n",
    "bins = [-100, -25, 0, 25, 50, 100, 150, 200]\n",
    "sales['margin_level'] = pd.cut(sales.unit_margin, bins, right=False)\n",
    "sales.groupby('margin_level').unit_margin.describe()"
   ]
  },
  {
   "cell_type": "code",
   "execution_count": 54,
   "metadata": {},
   "outputs": [
    {
     "data": {
      "text/plain": [
       "<AxesSubplot:xlabel='product', ylabel='quant'>"
      ]
     },
     "execution_count": 54,
     "metadata": {},
     "output_type": "execute_result"
    },
    {
     "data": {
      "image/png": "[encoded data removed]",
      "text/plain": [
       "<Figure size 1080x576 with 1 Axes>"
      ]
     },
     "metadata": {
      "needs_background": "light"
     },
     "output_type": "display_data"
    }
   ],
   "source": [
    "# product vs quant in different margin level\n",
    "fig = plt.figure(figsize=(15,8))\n",
    "sns.barplot(x='product', y='quant', hue='margin_level', estimator=sum, data=sales)"
   ]
  },
  {
   "cell_type": "markdown",
   "metadata": {},
   "source": [
    "T-shirt is the most popular products.\n",
    "All of the categories have low margin. Jeans have both a loss and a profit.\n",
    "New Arrivals, Sweaters, Accessories and Dresses have good profits.    "
   ]
  },
  {
   "cell_type": "code",
   "execution_count": 49,
   "metadata": {},
   "outputs": [
    {
     "data": {
      "text/plain": [
       "<AxesSubplot:xlabel='product', ylabel='unit_margin'>"
      ]
     },
     "execution_count": 49,
     "metadata": {},
     "output_type": "execute_result"
    },
    {
     "data": {
      "image/png": "[encoded data removed]",
      "text/plain": [
       "<Figure size 720x360 with 1 Axes>"
      ]
     },
     "metadata": {
      "needs_background": "light"
     },
     "output_type": "display_data"
    }
   ],
   "source": [
    "# product vs unit_margin\n",
    "fig = plt.figure(figsize=(10,5))\n",
    "sns.boxplot(x='product', y='unit_margin', data=sales, \n",
    "            order=sales.groupby('product').unit_margin.mean().sort_values(ascending=False).index)"
   ]
  },
  {
   "cell_type": "markdown",
   "metadata": {},
   "source": [
    "Sweaters have some unit_margins below 0. Sweaters may often on sale."
   ]
  }
 ],
 "metadata": {
  "kernelspec": {
   "display_name": "Python 3",
   "language": "python",
   "name": "python3"
  },
  "language_info": {
   "codemirror_mode": {
    "name": "ipython",
    "version": 3
   },
   "file_extension": ".py",
   "mimetype": "text/x-python",
   "name": "python",
   "nbconvert_exporter": "python",
   "pygments_lexer": "ipython3",
   "version": "3.8.5"
  }
 },
 "nbformat": 4,
 "nbformat_minor": 4
}
